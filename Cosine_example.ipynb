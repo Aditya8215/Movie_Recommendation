{
 "cells": [
  {
   "cell_type": "code",
   "execution_count": 41,
   "id": "1da6a500-dcbc-490c-8383-0f4cb63d9ecb",
   "metadata": {},
   "outputs": [],
   "source": [
    "from sklearn.metrics.pairwise import cosine_similarity as cs,cosine_distances as cd\n",
    "import pandas as pd"
   ]
  },
  {
   "cell_type": "code",
   "execution_count": 3,
   "id": "f0d59f3d-1df5-449b-a3ab-e5448109650d",
   "metadata": {},
   "outputs": [
    {
     "data": {
      "text/plain": [
       "array([[1.]])"
      ]
     },
     "execution_count": 3,
     "metadata": {},
     "output_type": "execute_result"
    }
   ],
   "source": [
    "a=cs([[3,1]],[[6,2]])\n",
    "a"
   ]
  },
  {
   "cell_type": "code",
   "execution_count": 4,
   "id": "4d2ba1c5-9929-4c33-bf15-230d75f3ff67",
   "metadata": {},
   "outputs": [
    {
     "data": {
      "text/plain": [
       "array([[0.]])"
      ]
     },
     "execution_count": 4,
     "metadata": {},
     "output_type": "execute_result"
    }
   ],
   "source": [
    "cd(a)"
   ]
  },
  {
   "cell_type": "code",
   "execution_count": 43,
   "id": "10b3b772-9454-4873-8b0b-290a7906b8af",
   "metadata": {},
   "outputs": [],
   "source": [
    "doc1=\"Apple's iPhone continues to dominate the premium smartphone market with its seamless iOS experience and hardware-software integration. While Samsung pushes boundaries with foldable phones, Apple focuses on stability and polish. Unlike Google's Android, Apple maintains strict control over its ecosystem, which some users prefer for security and consistency.\"\n",
    "doc2=\"The MacBook Air with Apple's M2 chip offers exceptional performance and battery life, outpacing many Intel-based laptops. Although Samsung also makes premium laptops, Apple's design and macOS ecosystem give it a loyal following. Google’s Chromebooks compete in the education sector, but lack the raw power of Apple’s machines.\"\n",
    "doc3=\"Apple’s services—like iCloud, Apple Music, and Apple TV+—continue to expand, although they face competition from Google’s YouTube and Samsung’s content platforms. While Google emphasizes AI-driven recommendations, Apple markets its privacy-first approach. Samsung, on the other hand, bundles third-party services more often in its devices.\"\n",
    "doc4=\"Apple prioritizes user privacy in its marketing, setting itself apart from Google’s ad-driven business model. Samsung also includes privacy features, but Apple’s stance is more aggressive. Despite the competition, all three companies continue to innovate in mobile tech, sometimes borrowing features from each other.\""
   ]
  },
  {
   "cell_type": "code",
   "execution_count": 42,
   "id": "ddd2c9a5-138d-4bea-a102-04dad9de0fbc",
   "metadata": {},
   "outputs": [],
   "source": [
    "s1=\"Samsung leads the foldable phone market with its Galaxy Z series, a segment where Apple hasn’t yet entered. While Google recently launched its own foldable Pixel device, Samsung’s experience gives it an edge. Still, Apple’s design consistency and loyal user base make it a formidable rival even without foldables..\"\n",
    "s2=\"The Galaxy S Ultra competes directly with Apple’s iPhone Pro models and Google's Pixel Pro phones. Samsung differentiates itself with features like 100x zoom and S Pen support, while Google focuses on computational photography. Apple emphasizes aesthetics and ecosystem rather than camera gimmicks.\"\n",
    "s3=\"Samsung ships its Android phones with One UI, a skin over Google’s Android base. While Apple builds iOS from the ground up, Samsung relies on Google's OS but heavily customizes it. This partnership with Google allows Samsung to innovate within Android, but sometimes delays updates compared to Apple’s direct rollout.\"\n",
    "s4=\"Samsung’s Galaxy Tab series competes with both Apple’s iPad and Google’s Pixel Tablet. While Apple leads in tablet-optimized apps, Samsung offers better multitasking and stylus input. Google's new tablet attempts to blend smart display and productivity, but Samsung still holds the Android tablet crown.\""
   ]
  },
  {
   "cell_type": "code",
   "execution_count": 39,
   "id": "03563445-ed5a-4f27-9f87-7a2bc3544086",
   "metadata": {},
   "outputs": [],
   "source": [
    "g1=\"Google’s Pixel phones offer a clean Android experience and smart features powered by AI. Samsung’s flagships use the same OS but add extra layers with One UI. Apple’s iOS, while closed-source, offers more uniformity, highlighting the contrast between open and closed ecosystems.\"\n",
    "g2=\"With Android, Google powers billions of devices, including Samsung’s smartphones. However, Apple’s iOS remains dominant in the U.S. market, largely due to its tight ecosystem. Google differentiates itself with services like Assistant, Photos, and real-time AI enhancements.\"\n",
    "g3=\"As the creator of Android, Google maintains control over the core operating system, releasing open-source updates and guidelines. The Pixel series serves as a showcase for Google’s vision of what Android should be, with features like Material You design.\"\n",
    "g4=\"Google’s ecosystem spans productivity tools like Docs, Sheets, and Drive, as well as cloud services and AI tools. Google Workspace has become a staple in both education and enterprise sectors, replacing traditional desktop software for many users.\""
   ]
  },
  {
   "cell_type": "code",
   "execution_count": 44,
   "id": "53b38efb-0151-4b75-a8f1-fc4b8005ad52",
   "metadata": {},
   "outputs": [
    {
     "name": "stdout",
     "output_type": "stream",
     "text": [
      "The number of variables related to Apple is [[3, 1, 0], [1, 1, 1], [4, 1, 2], [2, 1, 1]]\n",
      "The number of variables related to Samsung is [[2, 3, 2], [2, 3, 2], [3, 3, 2], [2, 4, 2]]\n",
      "The number of variables related to Google is [[1, 1, 2], [2, 1, 2], [0, 0, 3], [0, 0, 2]]\n"
     ]
    }
   ],
   "source": [
    "str1=\"Apple\"\n",
    "str2=\"Samsung\"\n",
    "str3=\"Google\"\n",
    "companies=[str1,str2,str3]\n",
    "apple=[doc1,doc2,doc3,doc4]\n",
    "samsung=[s1,s2,s3,s4]\n",
    "google=[g1,g2,g3,g4]\n",
    "d=[apple,samsung,google]\n",
    "company_docs=[]\n",
    "for company in d:\n",
    "    docs_count=[]\n",
    "    for doc in company:\n",
    "        doc=doc.split(\" \")\n",
    "        a,s,g=0,0,0\n",
    "        for alpha in doc:    \n",
    "            if(alpha=='Apple'or alpha==\"Apple’s\"or alpha==\"iPhone,\"or alpha==\"MacBook,\"or alpha==\"iOS\"or alpha==\"iCloud\"):\n",
    "                a+=1\n",
    "            elif(alpha=='Samsung'or alpha=='samsung'or alpha==\"Galaxy\"or alpha==\"Note\"or alpha==\"Ultra\"or alpha==\"Samsung’s\"):\n",
    "                s+=1\n",
    "            elif(alpha=='Google'or alpha=='google'or alpha==\"Pixel\"or alpha==\"Google’s\"):\n",
    "                g+=1\n",
    "        doc1_count=[a,s,g]\n",
    "        docs_count.append(doc1_count)\n",
    "    company_docs.append(docs_count)\n",
    "for name,docs in zip(companies,company_docs):\n",
    "    print(f\"The number of variables related to {name} is {docs}\")"
   ]
  },
  {
   "cell_type": "code",
   "execution_count": 48,
   "id": "144611be-4765-4d33-a126-e05da081894f",
   "metadata": {},
   "outputs": [
    {
     "data": {
      "text/html": [
       "<div>\n",
       "<style scoped>\n",
       "    .dataframe tbody tr th:only-of-type {\n",
       "        vertical-align: middle;\n",
       "    }\n",
       "\n",
       "    .dataframe tbody tr th {\n",
       "        vertical-align: top;\n",
       "    }\n",
       "\n",
       "    .dataframe thead th {\n",
       "        text-align: right;\n",
       "    }\n",
       "</style>\n",
       "<table border=\"1\" class=\"dataframe\">\n",
       "  <thead>\n",
       "    <tr style=\"text-align: right;\">\n",
       "      <th></th>\n",
       "      <th>Apple</th>\n",
       "      <th>Samsung</th>\n",
       "    </tr>\n",
       "  </thead>\n",
       "  <tbody>\n",
       "    <tr>\n",
       "      <th>doc1</th>\n",
       "      <td>3</td>\n",
       "      <td>1</td>\n",
       "    </tr>\n",
       "    <tr>\n",
       "      <th>doc2</th>\n",
       "      <td>4</td>\n",
       "      <td>1</td>\n",
       "    </tr>\n",
       "    <tr>\n",
       "      <th>doc3</th>\n",
       "      <td>2</td>\n",
       "      <td>3</td>\n",
       "    </tr>\n",
       "    <tr>\n",
       "      <th>doc4</th>\n",
       "      <td>2</td>\n",
       "      <td>3</td>\n",
       "    </tr>\n",
       "  </tbody>\n",
       "</table>\n",
       "</div>"
      ],
      "text/plain": [
       "      Apple  Samsung\n",
       "doc1      3        1\n",
       "doc2      4        1\n",
       "doc3      2        3\n",
       "doc4      2        3"
      ]
     },
     "execution_count": 48,
     "metadata": {},
     "output_type": "execute_result"
    }
   ],
   "source": [
    "\n",
    "df=pd.DataFrame([\n",
    "    {\"Apple\":3,\"Samsung\":1},\n",
    "    {\"Apple\":4,\"Samsung\":1},\n",
    "    {\"Apple\":2,\"Samsung\":3},\n",
    "    {\"Apple\":2,\"Samsung\":3},\n",
    "    ],\n",
    "    index=['doc1','doc2','doc3','doc4']\n",
    ")\n",
    "df "
   ]
  },
  {
   "cell_type": "code",
   "execution_count": 52,
   "id": "7cd012a6-4bba-4040-8e3f-67259213ee37",
   "metadata": {},
   "outputs": [
    {
     "data": {
      "text/plain": [
       "array([[3, 1]], dtype=int64)"
      ]
     },
     "execution_count": 52,
     "metadata": {},
     "output_type": "execute_result"
    }
   ],
   "source": [
    "df.loc[\"doc1\":\"doc1\"].values"
   ]
  },
  {
   "cell_type": "code",
   "execution_count": 63,
   "id": "6a48b2bf-fedb-4cc7-9282-6450ea662429",
   "metadata": {},
   "outputs": [
    {
     "data": {
      "text/plain": [
       "array([[0.99705449]])"
      ]
     },
     "execution_count": 63,
     "metadata": {},
     "output_type": "execute_result"
    }
   ],
   "source": [
    "cs(df.loc['doc1':'doc1'].values,df.loc['doc2':'doc2'].values)"
   ]
  },
  {
   "cell_type": "code",
   "execution_count": 90,
   "id": "e5cbd229-0d86-4468-bae8-a2f29de569de",
   "metadata": {},
   "outputs": [
    {
     "data": {
      "text/plain": [
       "array([[21.06477826]])"
      ]
     },
     "execution_count": 90,
     "metadata": {},
     "output_type": "execute_result"
    }
   ],
   "source": [
    "cd(df.loc['doc1':'doc1'],df.loc['doc3':'doc3'])*100"
   ]
  },
  {
   "cell_type": "code",
   "execution_count": 93,
   "id": "2d28a523-e8b7-429e-816e-048708293020",
   "metadata": {},
   "outputs": [
    {
     "data": {
      "text/plain": [
       "[[True, True, False, False],\n",
       " [True, True, False, False],\n",
       " [False, False, True, True],\n",
       " [False, False, True, True]]"
      ]
     },
     "execution_count": 93,
     "metadata": {},
     "output_type": "execute_result"
    }
   ],
   "source": [
    "a=[]\n",
    "for i in range(1,5):\n",
    "    row=[]\n",
    "    for j in range(1,5):\n",
    "        row.append((cd(df.loc[f'doc{i}':f'doc{i}'],df.loc[f'doc{j}':f'doc{j}'])*100<1)[0][0])\n",
    "    a.append(row)\n",
    "a"
   ]
  },
  {
   "cell_type": "code",
   "execution_count": 94,
   "id": "d00290bb-4635-4b73-bbb4-f8d5863a44ef",
   "metadata": {},
   "outputs": [
    {
     "name": "stdout",
     "output_type": "stream",
     "text": [
      "       doc1   doc2   doc3   doc4\n",
      "doc1   True   True  False  False\n",
      "doc2   True   True  False  False\n",
      "doc3  False  False   True   True\n",
      "doc4  False  False   True   True\n"
     ]
    }
   ],
   "source": [
    "result_df = pd.DataFrame(a, index=[f'doc{i}' for i in range(1, 5)],columns=[f'doc{j}' for j in range(1, 5)])\n",
    "print(result_df)"
   ]
  },
  {
   "cell_type": "markdown",
   "id": "f28022fd-479c-4ffc-87bc-573f4b9fb126",
   "metadata": {},
   "source": [
    "# Using TensorFLow"
   ]
  },
  {
   "cell_type": "code",
   "execution_count": null,
   "id": "24e58efc-35f6-4857-93c4-258495d45e23",
   "metadata": {},
   "outputs": [],
   "source": []
  }
 ],
 "metadata": {
  "kernelspec": {
   "display_name": "Python 3 (ipykernel)",
   "language": "python",
   "name": "python3"
  },
  "language_info": {
   "codemirror_mode": {
    "name": "ipython",
    "version": 3
   },
   "file_extension": ".py",
   "mimetype": "text/x-python",
   "name": "python",
   "nbconvert_exporter": "python",
   "pygments_lexer": "ipython3",
   "version": "3.11.7"
  }
 },
 "nbformat": 4,
 "nbformat_minor": 5
}
